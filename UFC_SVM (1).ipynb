{
  "nbformat": 4,
  "nbformat_minor": 0,
  "metadata": {
    "colab": {
      "provenance": []
    },
    "kernelspec": {
      "name": "python3",
      "display_name": "Python 3"
    },
    "language_info": {
      "name": "python"
    }
  },
  "cells": [
    {
      "cell_type": "code",
      "execution_count": null,
      "metadata": {
        "colab": {
          "base_uri": "https://localhost:8080/"
        },
        "id": "pkPVDvEPJLQ4",
        "outputId": "2dcd0765-e85c-43ce-ab97-aed1f14977ab"
      },
      "outputs": [
        {
          "output_type": "stream",
          "name": "stdout",
          "text": [
            "Drive already mounted at /content/drive; to attempt to forcibly remount, call drive.mount(\"/content/drive\", force_remount=True).\n"
          ]
        }
      ],
      "source": [
        "from google.colab import drive\n",
        "drive.mount('/content/drive')"
      ]
    },
    {
      "cell_type": "code",
      "source": [
        "import pandas as pd"
      ],
      "metadata": {
        "id": "XGLOQq6LJQbh"
      },
      "execution_count": null,
      "outputs": []
    },
    {
      "cell_type": "code",
      "source": [
        "df = pd.read_csv('/content/drive/MyDrive/UFC/masterMLpublic.csv')"
      ],
      "metadata": {
        "id": "YeYInxm1JTHK"
      },
      "execution_count": null,
      "outputs": []
    },
    {
      "cell_type": "code",
      "source": [
        "import numpy as np\n",
        "import xgboost as xgb\n",
        "from sklearn.metrics import accuracy_score"
      ],
      "metadata": {
        "id": "Hmvj3idcJaNY"
      },
      "execution_count": null,
      "outputs": []
    },
    {
      "cell_type": "markdown",
      "source": [
        "Removing draw's, refplacing inftinte values with NaN and removing the NaN's"
      ],
      "metadata": {
        "id": "hLsXWIG1Jdt3"
      }
    },
    {
      "cell_type": "code",
      "source": [
        "#df = df[df['method'] != \"DRAW\"] # Remove draws\n",
        "#df = df[df['division'] != \"Women's Bantamweight\"]\n",
        "#df = df[df['division'] != \"Heavyweight\"]\n",
        "#df = df[df['division'] != \"Women's Flyweight\"]\n",
        "df = df.replace([np.inf, -np.inf], np.nan) # Replace inf with NaN\n",
        "df = df.dropna() # Remove NaNs\n",
        "df = df.loc[(df['date'] > '2021-11-01')]\n",
        "#df = df[df.columns.drop(list(df.filter(like='odds')))] # Remove odds columns"
      ],
      "metadata": {
        "id": "A9he8E5PJcwb"
      },
      "execution_count": null,
      "outputs": []
    },
    {
      "cell_type": "code",
      "source": [
        "\"\"\"\n",
        "test_df_svm = df.loc[(df['date'] > '2022-11-01')]\n",
        "y_test_svm = test_df_svm['result']\n",
        "X_test_svm = test_df_svm[['age', 'height','reach']]  # This will select the 'age' column\n",
        "\n",
        "train_df_svm = df.drop(test_df_svm.index)\n",
        "y_train_svm = train_df_svm['result']\n",
        "X_train_age = train_df_svm[['age', 'height','reach']]  # Same as a\n",
        "\"\"\""
      ],
      "metadata": {
        "colab": {
          "base_uri": "https://localhost:8080/",
          "height": 87
        },
        "id": "9svTdIDcJp5K",
        "outputId": "26165503-f5c4-48d4-a121-3a4841206f6d"
      },
      "execution_count": null,
      "outputs": [
        {
          "output_type": "execute_result",
          "data": {
            "text/plain": [
              "\"\\ntest_df_svm = df.loc[(df['date'] > '2022-11-01')]\\ny_test_svm = test_df_svm['result']\\nX_test_svm = test_df_svm[['age', 'height','reach']]  # This will select the 'age' column\\n\\ntrain_df_svm = df.drop(test_df_svm.index)\\ny_train_svm = train_df_svm['result'] \\nX_train_age = train_df_svm[['age', 'height','reach']]  # Same as a\\n\""
            ],
            "application/vnd.google.colaboratory.intrinsic+json": {
              "type": "string"
            }
          },
          "metadata": {},
          "execution_count": 24
        }
      ]
    },
    {
      "cell_type": "code",
      "source": [
        "from sklearn.linear_model import LogisticRegression\n",
        "from sklearn.model_selection import train_test_split\n",
        "from sklearn.metrics import accuracy_score, classification_report\n",
        "from sklearn.preprocessing import StandardScaler"
      ],
      "metadata": {
        "id": "2IL88p3lKfsO"
      },
      "execution_count": null,
      "outputs": []
    },
    {
      "cell_type": "code",
      "source": [
        "y = df['result']\n",
        "\"\"\"\n",
        "X = df[['age', 'height','reach','precomp_age_vs_opp', 'precomp_avg_head_strikes_absorbed_differential_vs_opp', 'precomp_elo_differential', 'precomp_age_differential_vs_opp', 'precomp_elo_vs_opp',\n",
        "        'precomp_change_avg_elo_differential_vs_valley', 'precomp_recent_avg_age_vs_opp', 'precomp_recent_avg_head_strikes_absorbed_differential_valley_vs_opp', 'precomp_age_differential',\n",
        "        'precomp_avg_age_vs_opp', 'precomp_change_avg_elo_differential', 'precomp_recent_avg_ground_strikes_attempts_differential_valley_vs_opp', 'precomp_avg_sig_strikes_absorbed_differential_vs_opp',\n",
        "        'precomp_recent_avg_age_differential_vs_opp','precomp_change_avg_age_differential_vs_opp', 'precomp_head_strikes_landed_differential_valley_vs_opp', 'precomp_change_recent_avg_elo_differential_vs_peak',\n",
        "        'precomp_change_avg_elo_differential_vs_peak', 'precomp_elo_differential_vs_peak', 'precomp_sig_strikes_landed_differential_valley_vs_opp', 'precomp_avg_ground_strikes_absorbed_differential_vs_opp',\n",
        "        'precomp_avg_takedowns_landed_differential_peak_vs_opp', 'precomp_change_age_differential_vs_opp', 'precomp_recent_avg_age_differential', 'precomp_avg_control_differential_vs_opp', 'precomp_avg_age_differential_vs_opp',\n",
        "        'precomp_recent_avg_sig_strikes_absorbed_differential_peak_vs_opp', 'precomp_recent_avg_sig_strikes_absorbed_differential_vs_opp', 'precomp_recent_avg_control_valley_vs_opp', 'precomp_change_elo_differential_vs_peak',\n",
        "        'precomp_avg_distance_strikes_absorbed_differential_vs_opp', 'precomp_recent_avg_ground_strikes_landed_differential_valley_vs_opp', 'precomp_change_elo_differential_vs_valley', 'precomp_head_strikes_def_vs_opp',\n",
        "        'precomp_elo_valley_vs_opp', 'precomp_head_strikes_def_differential_vs_opp', 'precomp_recent_avg_sig_strikes_absorbed_differential_valley_vs_opp' ,'precomp_win_loss_ratio_differential',\n",
        "        'precomp_avg_head_strikes_landed_per_min_differential_vs_opp', 'precomp_recent_avg_head_strikes_absorbed_differential_peak_vs_opp' ,'precomp_avg_sig_strikes_absorbed_peak_vs_opp', 'precomp_sig_strikes_absorbed_differential_peak_vs_opp' ,\n",
        "        'precomp_trueskill_vs_opp', 'precomp_change_recent_avg_elo_differential', 'precomp_avg_head_strikes_landed_differential_vs_opp', 'precomp_takedowns_attempts_per_min_peak_vs_opp', 'precomp_change_recent_avg_ground_strikes_attempts_per_min_differential_vs_valley_vs_opp',\n",
        "        'precomp_change_recent_avg_ground_strikes_attempts_per_min_differential_vs_peak_vs_opp', 'precomp_change_recent_avg_ground_strikes_attempts_per_min_differential_valley_vs_opp', 'precomp_change_recent_avg_ground_strikes_attempts_per_min_differential_peak_vs_opp',\n",
        "        'precomp_change_avg_ground_strikes_attempts_per_min_differential_vs_valley_vs_opp', 'precomp_change_avg_ground_strikes_attempts_per_min_differential_vs_peak_vs_opp', 'precomp_change_avg_ground_strikes_attempts_per_min_differential_valley_vs_opp',\n",
        "        'precomp_change_avg_ground_strikes_attempts_per_min_differential_peak_vs_opp', 'precomp_change_recent_avg_ground_strikes_landed_per_min_differential_vs_valley_vs_opp', 'precomp_change_recent_avg_ground_strikes_landed_per_min_differential_vs_peak_vs_opp',\n",
        "        'precomp_change_recent_avg_ground_strikes_landed_per_min_differential_valley_vs_opp', 'precomp_change_recent_avg_ground_strikes_landed_per_min_differential_peak_vs_opp', 'precomp_change_avg_ground_strikes_landed_per_min_differential_vs_valley_vs_opp',\n",
        "        'precomp_change_avg_ground_strikes_landed_per_min_differential_vs_peak_vs_opp', 'precomp_change_avg_ground_strikes_landed_per_min_differential_valley_vs_opp', 'precomp_change_avg_ground_strikes_landed_per_min_differential_peak_vs_opp',\n",
        "        'precomp_change_recent_avg_clinch_strikes_attempts_per_min_differential_vs_valley_vs_opp', 'precomp_change_recent_avg_clinch_strikes_attempts_per_min_differential_vs_peak_vs_opp', 'precomp_change_recent_avg_clinch_strikes_attempts_per_min_differential_valley_vs_opp',\n",
        "        'precomp_change_recent_avg_clinch_strikes_attempts_per_min_differential_peak_vs_opp', 'precomp_change_avg_clinch_strikes_attempts_per_min_differential_vs_valley_vs_opp', 'precomp_change_avg_clinch_strikes_attempts_per_min_differential_vs_peak_vs_opp',\n",
        "        'precomp_change_avg_clinch_strikes_attempts_per_min_differential_valley_vs_opp', 'precomp_change_avg_clinch_strikes_attempts_per_min_differential_peak_vs_opp', 'precomp_change_recent_avg_clinch_strikes_landed_per_min_differential_vs_valley_vs_opp',\n",
        "        'precomp_change_recent_avg_clinch_strikes_landed_per_min_differential_vs_peak_vs_opp']]\n",
        "\"\"\"\n",
        "X = df[['age', 'height','reach','precomp_age_vs_opp', 'precomp_avg_head_strikes_absorbed_differential_vs_opp', 'precomp_elo_differential', 'precomp_age_differential_vs_opp', 'precomp_elo_vs_opp',\n",
        "        'precomp_change_avg_elo_differential_vs_valley', 'precomp_recent_avg_age_vs_opp', 'precomp_recent_avg_head_strikes_absorbed_differential_valley_vs_opp', 'precomp_age_differential',\n",
        "        'precomp_avg_age_vs_opp', 'precomp_change_avg_elo_differential', 'precomp_recent_avg_ground_strikes_attempts_differential_valley_vs_opp', 'precomp_avg_sig_strikes_absorbed_differential_vs_opp',\n",
        "        'precomp_recent_avg_age_differential_vs_opp','precomp_change_avg_age_differential_vs_opp', 'precomp_head_strikes_landed_differential_valley_vs_opp', 'precomp_change_recent_avg_elo_differential_vs_peak',\n",
        "        'precomp_change_avg_elo_differential_vs_peak', 'precomp_elo_differential_vs_peak', 'precomp_sig_strikes_landed_differential_valley_vs_opp', 'precomp_avg_ground_strikes_absorbed_differential_vs_opp',\n",
        "        'precomp_avg_takedowns_landed_differential_peak_vs_opp', 'precomp_change_age_differential_vs_opp', 'precomp_recent_avg_age_differential', 'precomp_avg_control_differential_vs_opp', 'precomp_avg_age_differential_vs_opp',\n",
        "        'precomp_recent_avg_sig_strikes_absorbed_differential_peak_vs_opp', 'precomp_recent_avg_sig_strikes_absorbed_differential_vs_opp', 'precomp_recent_avg_control_valley_vs_opp', 'precomp_change_elo_differential_vs_peak',\n",
        "        'precomp_avg_distance_strikes_absorbed_differential_vs_opp', 'precomp_recent_avg_ground_strikes_landed_differential_valley_vs_opp', 'precomp_change_elo_differential_vs_valley', 'precomp_head_strikes_def_vs_opp',\n",
        "        'precomp_elo_valley_vs_opp', 'precomp_head_strikes_def_differential_vs_opp', 'precomp_recent_avg_sig_strikes_absorbed_differential_valley_vs_opp' ,'precomp_win_loss_ratio_differential',\n",
        "        'precomp_avg_head_strikes_landed_per_min_differential_vs_opp', 'precomp_recent_avg_head_strikes_absorbed_differential_peak_vs_opp' ,'precomp_avg_sig_strikes_absorbed_peak_vs_opp', 'precomp_sig_strikes_absorbed_differential_peak_vs_opp' ,\n",
        "        'precomp_trueskill_vs_opp', 'precomp_change_recent_avg_elo_differential', 'precomp_avg_head_strikes_landed_differential_vs_opp', 'precomp_takedowns_attempts_per_min_peak_vs_opp', 'precomp_change_recent_avg_ground_strikes_attempts_per_min_differential_vs_valley_vs_opp',\n",
        "        'precomp_change_recent_avg_ground_strikes_attempts_per_min_differential_vs_peak_vs_opp', 'precomp_change_recent_avg_ground_strikes_attempts_per_min_differential_valley_vs_opp', 'precomp_change_recent_avg_ground_strikes_attempts_per_min_differential_peak_vs_opp',\n",
        "        'precomp_change_avg_ground_strikes_attempts_per_min_differential_vs_valley_vs_opp', 'precomp_change_avg_ground_strikes_attempts_per_min_differential_vs_peak_vs_opp', 'precomp_change_avg_ground_strikes_attempts_per_min_differential_valley_vs_opp',\n",
        "        'precomp_change_avg_ground_strikes_attempts_per_min_differential_peak_vs_opp', 'precomp_change_recent_avg_ground_strikes_landed_per_min_differential_vs_valley_vs_opp',\n",
        "        'precomp_change_recent_avg_ground_strikes_landed_per_min_differential_peak_vs_opp', 'precomp_change_avg_ground_strikes_landed_per_min_differential_vs_valley_vs_opp',\n",
        "        'precomp_change_avg_ground_strikes_landed_per_min_differential_valley_vs_opp', 'precomp_change_avg_ground_strikes_landed_per_min_differential_peak_vs_opp',\n",
        "        'precomp_change_recent_avg_clinch_strikes_attempts_per_min_differential_vs_valley_vs_opp', 'precomp_change_recent_avg_clinch_strikes_attempts_per_min_differential_vs_peak_vs_opp', 'precomp_change_recent_avg_clinch_strikes_attempts_per_min_differential_valley_vs_opp',\n",
        "        'precomp_change_avg_clinch_strikes_attempts_per_min_differential_vs_valley_vs_opp', 'precomp_change_avg_clinch_strikes_attempts_per_min_differential_vs_peak_vs_opp',\n",
        "        'precomp_change_avg_clinch_strikes_attempts_per_min_differential_valley_vs_opp', 'precomp_change_avg_clinch_strikes_attempts_per_min_differential_peak_vs_opp',\n",
        "        'precomp_change_recent_avg_clinch_strikes_landed_per_min_differential_vs_peak_vs_opp']]\n",
        "\n",
        "print(\"X shape: \", X.shape)\n",
        "print(\"Y shape: \", y.shape)\n",
        "X_train, X_test, y_train, y_test = train_test_split(X, y, test_size = 0.2, random_state = 21)"
      ],
      "metadata": {
        "colab": {
          "base_uri": "https://localhost:8080/"
        },
        "id": "_jy9cBETKW92",
        "outputId": "36362cad-96ba-418f-dc79-337052f375c6"
      },
      "execution_count": null,
      "outputs": [
        {
          "output_type": "stream",
          "name": "stdout",
          "text": [
            "X shape:  (636, 70)\n",
            "Y shape:  (636,)\n"
          ]
        }
      ]
    },
    {
      "cell_type": "code",
      "source": [
        "from sklearn.decomposition import PCA\n",
        "from sklearn.preprocessing import StandardScaler\n",
        "from sklearn.svm import SVC\n",
        "from sklearn.pipeline import make_pipeline\n",
        "from sklearn.model_selection import train_test_split"
      ],
      "metadata": {
        "id": "etkiLHITKkJM"
      },
      "execution_count": null,
      "outputs": []
    },
    {
      "cell_type": "code",
      "source": [
        "pipeline = make_pipeline(StandardScaler(), PCA(n_components=0.95), SVC(kernel='rbf'))"
      ],
      "metadata": {
        "id": "VPRYfONMKx6A"
      },
      "execution_count": null,
      "outputs": []
    },
    {
      "cell_type": "code",
      "source": [
        "pipeline.fit(X_train, y_train)"
      ],
      "metadata": {
        "colab": {
          "base_uri": "https://localhost:8080/",
          "height": 161
        },
        "id": "2le3zPAdK7Ns",
        "outputId": "2cbae86c-9e8d-49fb-cad6-be8739edf1d8"
      },
      "execution_count": null,
      "outputs": [
        {
          "output_type": "execute_result",
          "data": {
            "text/plain": [
              "Pipeline(steps=[('standardscaler', StandardScaler()),\n",
              "                ('pca', PCA(n_components=0.95)), ('svc', SVC())])"
            ],
            "text/html": [
              "<style>#sk-container-id-84 {color: black;background-color: white;}#sk-container-id-84 pre{padding: 0;}#sk-container-id-84 div.sk-toggleable {background-color: white;}#sk-container-id-84 label.sk-toggleable__label {cursor: pointer;display: block;width: 100%;margin-bottom: 0;padding: 0.3em;box-sizing: border-box;text-align: center;}#sk-container-id-84 label.sk-toggleable__label-arrow:before {content: \"▸\";float: left;margin-right: 0.25em;color: #696969;}#sk-container-id-84 label.sk-toggleable__label-arrow:hover:before {color: black;}#sk-container-id-84 div.sk-estimator:hover label.sk-toggleable__label-arrow:before {color: black;}#sk-container-id-84 div.sk-toggleable__content {max-height: 0;max-width: 0;overflow: hidden;text-align: left;background-color: #f0f8ff;}#sk-container-id-84 div.sk-toggleable__content pre {margin: 0.2em;color: black;border-radius: 0.25em;background-color: #f0f8ff;}#sk-container-id-84 input.sk-toggleable__control:checked~div.sk-toggleable__content {max-height: 200px;max-width: 100%;overflow: auto;}#sk-container-id-84 input.sk-toggleable__control:checked~label.sk-toggleable__label-arrow:before {content: \"▾\";}#sk-container-id-84 div.sk-estimator input.sk-toggleable__control:checked~label.sk-toggleable__label {background-color: #d4ebff;}#sk-container-id-84 div.sk-label input.sk-toggleable__control:checked~label.sk-toggleable__label {background-color: #d4ebff;}#sk-container-id-84 input.sk-hidden--visually {border: 0;clip: rect(1px 1px 1px 1px);clip: rect(1px, 1px, 1px, 1px);height: 1px;margin: -1px;overflow: hidden;padding: 0;position: absolute;width: 1px;}#sk-container-id-84 div.sk-estimator {font-family: monospace;background-color: #f0f8ff;border: 1px dotted black;border-radius: 0.25em;box-sizing: border-box;margin-bottom: 0.5em;}#sk-container-id-84 div.sk-estimator:hover {background-color: #d4ebff;}#sk-container-id-84 div.sk-parallel-item::after {content: \"\";width: 100%;border-bottom: 1px solid gray;flex-grow: 1;}#sk-container-id-84 div.sk-label:hover label.sk-toggleable__label {background-color: #d4ebff;}#sk-container-id-84 div.sk-serial::before {content: \"\";position: absolute;border-left: 1px solid gray;box-sizing: border-box;top: 0;bottom: 0;left: 50%;z-index: 0;}#sk-container-id-84 div.sk-serial {display: flex;flex-direction: column;align-items: center;background-color: white;padding-right: 0.2em;padding-left: 0.2em;position: relative;}#sk-container-id-84 div.sk-item {position: relative;z-index: 1;}#sk-container-id-84 div.sk-parallel {display: flex;align-items: stretch;justify-content: center;background-color: white;position: relative;}#sk-container-id-84 div.sk-item::before, #sk-container-id-84 div.sk-parallel-item::before {content: \"\";position: absolute;border-left: 1px solid gray;box-sizing: border-box;top: 0;bottom: 0;left: 50%;z-index: -1;}#sk-container-id-84 div.sk-parallel-item {display: flex;flex-direction: column;z-index: 1;position: relative;background-color: white;}#sk-container-id-84 div.sk-parallel-item:first-child::after {align-self: flex-end;width: 50%;}#sk-container-id-84 div.sk-parallel-item:last-child::after {align-self: flex-start;width: 50%;}#sk-container-id-84 div.sk-parallel-item:only-child::after {width: 0;}#sk-container-id-84 div.sk-dashed-wrapped {border: 1px dashed gray;margin: 0 0.4em 0.5em 0.4em;box-sizing: border-box;padding-bottom: 0.4em;background-color: white;}#sk-container-id-84 div.sk-label label {font-family: monospace;font-weight: bold;display: inline-block;line-height: 1.2em;}#sk-container-id-84 div.sk-label-container {text-align: center;}#sk-container-id-84 div.sk-container {/* jupyter's `normalize.less` sets `[hidden] { display: none; }` but bootstrap.min.css set `[hidden] { display: none !important; }` so we also need the `!important` here to be able to override the default hidden behavior on the sphinx rendered scikit-learn.org. See: https://github.com/scikit-learn/scikit-learn/issues/21755 */display: inline-block !important;position: relative;}#sk-container-id-84 div.sk-text-repr-fallback {display: none;}</style><div id=\"sk-container-id-84\" class=\"sk-top-container\"><div class=\"sk-text-repr-fallback\"><pre>Pipeline(steps=[(&#x27;standardscaler&#x27;, StandardScaler()),\n",
              "                (&#x27;pca&#x27;, PCA(n_components=0.95)), (&#x27;svc&#x27;, SVC())])</pre><b>In a Jupyter environment, please rerun this cell to show the HTML representation or trust the notebook. <br />On GitHub, the HTML representation is unable to render, please try loading this page with nbviewer.org.</b></div><div class=\"sk-container\" hidden><div class=\"sk-item sk-dashed-wrapped\"><div class=\"sk-label-container\"><div class=\"sk-label sk-toggleable\"><input class=\"sk-toggleable__control sk-hidden--visually\" id=\"sk-estimator-id-333\" type=\"checkbox\" ><label for=\"sk-estimator-id-333\" class=\"sk-toggleable__label sk-toggleable__label-arrow\">Pipeline</label><div class=\"sk-toggleable__content\"><pre>Pipeline(steps=[(&#x27;standardscaler&#x27;, StandardScaler()),\n",
              "                (&#x27;pca&#x27;, PCA(n_components=0.95)), (&#x27;svc&#x27;, SVC())])</pre></div></div></div><div class=\"sk-serial\"><div class=\"sk-item\"><div class=\"sk-estimator sk-toggleable\"><input class=\"sk-toggleable__control sk-hidden--visually\" id=\"sk-estimator-id-334\" type=\"checkbox\" ><label for=\"sk-estimator-id-334\" class=\"sk-toggleable__label sk-toggleable__label-arrow\">StandardScaler</label><div class=\"sk-toggleable__content\"><pre>StandardScaler()</pre></div></div></div><div class=\"sk-item\"><div class=\"sk-estimator sk-toggleable\"><input class=\"sk-toggleable__control sk-hidden--visually\" id=\"sk-estimator-id-335\" type=\"checkbox\" ><label for=\"sk-estimator-id-335\" class=\"sk-toggleable__label sk-toggleable__label-arrow\">PCA</label><div class=\"sk-toggleable__content\"><pre>PCA(n_components=0.95)</pre></div></div></div><div class=\"sk-item\"><div class=\"sk-estimator sk-toggleable\"><input class=\"sk-toggleable__control sk-hidden--visually\" id=\"sk-estimator-id-336\" type=\"checkbox\" ><label for=\"sk-estimator-id-336\" class=\"sk-toggleable__label sk-toggleable__label-arrow\">SVC</label><div class=\"sk-toggleable__content\"><pre>SVC()</pre></div></div></div></div></div></div></div>"
            ]
          },
          "metadata": {},
          "execution_count": 361
        }
      ]
    },
    {
      "cell_type": "code",
      "source": [
        "accuracy = pipeline.score(X_test, y_test)\n",
        "print(f'Accuracy: {accuracy}')"
      ],
      "metadata": {
        "colab": {
          "base_uri": "https://localhost:8080/"
        },
        "id": "Segd73JRK9cq",
        "outputId": "62c88190-497f-448d-aaac-45a585ea392d"
      },
      "execution_count": null,
      "outputs": [
        {
          "output_type": "stream",
          "name": "stdout",
          "text": [
            "Accuracy: 0.6015625\n"
          ]
        }
      ]
    },
    {
      "cell_type": "code",
      "source": [
        "from sklearn.decomposition import PCA\n",
        "from sklearn.preprocessing import StandardScaler\n",
        "from sklearn.svm import SVC\n",
        "from sklearn.pipeline import make_pipeline\n",
        "from sklearn.model_selection import train_test_split\n",
        "\n",
        "# Define your base features that you will always include\n",
        "base_features = ['age', 'height', 'reach', 'precomp_change_avg_elo_differential', 'precomp_avg_age_differential_vs_opp', 'precomp_change_avg_ground_strikes_attempts_per_min_differential_peak_vs_opp', 'precomp_change_avg_ground_strikes_landed_per_min_differential_peak_vs_opp', 'precomp_head_strikes_def_vs_opp', 'precomp_change_avg_clinch_strikes_attempts_per_min_differential_vs_peak_vs_opp', 'precomp_avg_control_differential_vs_opp', 'precomp_recent_avg_ground_strikes_landed_differential_valley_vs_opp'] # Add your actual base features\n",
        "\n",
        "# List additional features to iterate through\n",
        "additional_features = ['precomp_age_vs_opp', 'precomp_avg_head_strikes_absorbed_differential_vs_opp', 'precomp_elo_differential', 'precomp_age_differential_vs_opp', 'precomp_elo_vs_opp',\n",
        "        'precomp_change_avg_elo_differential_vs_valley', 'precomp_recent_avg_age_vs_opp', 'precomp_recent_avg_head_strikes_absorbed_differential_valley_vs_opp', 'precomp_age_differential',\n",
        "        'precomp_avg_age_vs_opp', 'precomp_change_avg_elo_differential', 'precomp_recent_avg_ground_strikes_attempts_differential_valley_vs_opp', 'precomp_avg_sig_strikes_absorbed_differential_vs_opp',\n",
        "        'precomp_recent_avg_age_differential_vs_opp','precomp_change_avg_age_differential_vs_opp', 'precomp_head_strikes_landed_differential_valley_vs_opp', 'precomp_change_recent_avg_elo_differential_vs_peak',\n",
        "        'precomp_change_avg_elo_differential_vs_peak', 'precomp_elo_differential_vs_peak', 'precomp_sig_strikes_landed_differential_valley_vs_opp', 'precomp_avg_ground_strikes_absorbed_differential_vs_opp',\n",
        "        'precomp_avg_takedowns_landed_differential_peak_vs_opp', 'precomp_change_age_differential_vs_opp', 'precomp_recent_avg_age_differential', 'precomp_avg_control_differential_vs_opp', 'precomp_avg_age_differential_vs_opp',\n",
        "        'precomp_recent_avg_sig_strikes_absorbed_differential_peak_vs_opp', 'precomp_recent_avg_sig_strikes_absorbed_differential_vs_opp', 'precomp_recent_avg_control_valley_vs_opp', 'precomp_change_elo_differential_vs_peak',\n",
        "        'precomp_avg_distance_strikes_absorbed_differential_vs_opp', 'precomp_recent_avg_ground_strikes_landed_differential_valley_vs_opp', 'precomp_change_elo_differential_vs_valley', 'precomp_head_strikes_def_vs_opp',\n",
        "        'precomp_elo_valley_vs_opp', 'precomp_head_strikes_def_differential_vs_opp', 'precomp_recent_avg_sig_strikes_absorbed_differential_valley_vs_opp' ,'precomp_win_loss_ratio_differential',\n",
        "        'precomp_avg_head_strikes_landed_per_min_differential_vs_opp', 'precomp_recent_avg_head_strikes_absorbed_differential_peak_vs_opp' ,'precomp_avg_sig_strikes_absorbed_peak_vs_opp', 'precomp_sig_strikes_absorbed_differential_peak_vs_opp' ,\n",
        "        'precomp_trueskill_vs_opp', 'precomp_change_recent_avg_elo_differential', 'precomp_avg_head_strikes_landed_differential_vs_opp', 'precomp_takedowns_attempts_per_min_peak_vs_opp', 'precomp_change_recent_avg_ground_strikes_attempts_per_min_differential_vs_valley_vs_opp',\n",
        "        'precomp_change_recent_avg_ground_strikes_attempts_per_min_differential_vs_peak_vs_opp', 'precomp_change_recent_avg_ground_strikes_attempts_per_min_differential_valley_vs_opp', 'precomp_change_recent_avg_ground_strikes_attempts_per_min_differential_peak_vs_opp',\n",
        "        'precomp_change_avg_ground_strikes_attempts_per_min_differential_vs_valley_vs_opp', 'precomp_change_avg_ground_strikes_attempts_per_min_differential_vs_peak_vs_opp', 'precomp_change_avg_ground_strikes_attempts_per_min_differential_valley_vs_opp',\n",
        "        'precomp_change_avg_ground_strikes_attempts_per_min_differential_peak_vs_opp', 'precomp_change_recent_avg_ground_strikes_landed_per_min_differential_vs_valley_vs_opp', 'precomp_change_recent_avg_ground_strikes_landed_per_min_differential_vs_peak_vs_opp',\n",
        "        'precomp_change_recent_avg_ground_strikes_landed_per_min_differential_valley_vs_opp', 'precomp_change_recent_avg_ground_strikes_landed_per_min_differential_peak_vs_opp', 'precomp_change_avg_ground_strikes_landed_per_min_differential_vs_valley_vs_opp',\n",
        "        'precomp_change_avg_ground_strikes_landed_per_min_differential_vs_peak_vs_opp', 'precomp_change_avg_ground_strikes_landed_per_min_differential_valley_vs_opp', 'precomp_change_avg_ground_strikes_landed_per_min_differential_peak_vs_opp',\n",
        "        'precomp_change_recent_avg_clinch_strikes_attempts_per_min_differential_vs_valley_vs_opp', 'precomp_change_recent_avg_clinch_strikes_attempts_per_min_differential_vs_peak_vs_opp', 'precomp_change_recent_avg_clinch_strikes_attempts_per_min_differential_valley_vs_opp',\n",
        "        'precomp_change_recent_avg_clinch_strikes_attempts_per_min_differential_peak_vs_opp', 'precomp_change_avg_clinch_strikes_attempts_per_min_differential_vs_valley_vs_opp', 'precomp_change_avg_clinch_strikes_attempts_per_min_differential_vs_peak_vs_opp',\n",
        "        'precomp_change_avg_clinch_strikes_attempts_per_min_differential_valley_vs_opp', 'precomp_change_avg_clinch_strikes_attempts_per_min_differential_peak_vs_opp', 'precomp_change_recent_avg_clinch_strikes_landed_per_min_differential_vs_valley_vs_opp',\n",
        "        'precomp_change_recent_avg_clinch_strikes_landed_per_min_differential_vs_peak_vs_opp'] # Add your actual additional features\n",
        "\n",
        "# Initialize the best accuracy to a very low number\n",
        "best_accuracy = 0\n",
        "best_feature_set = []\n",
        "\n",
        "# Iterate through additional features\n",
        "for feature in additional_features:\n",
        "    # Create a new feature set including the new feature\n",
        "    current_features = base_features + [feature]\n",
        "\n",
        "    # Split the data into training and testing sets\n",
        "    X_train, X_test, y_train, y_test = train_test_split(\n",
        "        df[current_features], y, test_size=0.2, random_state=42\n",
        "    )\n",
        "\n",
        "    # Create a pipeline that standardizes, runs PCA, and trains SVM\n",
        "    pipeline = make_pipeline(StandardScaler(), PCA(n_components=0.95), SVC(kernel='rbf'))\n",
        "\n",
        "    # Fit the model\n",
        "    pipeline.fit(X_train, y_train)\n",
        "\n",
        "    # Calculate the accuracy\n",
        "    current_accuracy = pipeline.score(X_test, y_test)\n",
        "\n",
        "    # Check if the current feature set gave a better accuracy\n",
        "    if current_accuracy > best_accuracy:\n",
        "        best_accuracy = current_accuracy\n",
        "        best_feature_set = current_features\n",
        "\n",
        "# Print the best accuracy and feature set\n",
        "print(f'Best Accuracy: {best_accuracy}')\n",
        "print(f'Best Feature Set: {best_feature_set}')"
      ],
      "metadata": {
        "colab": {
          "base_uri": "https://localhost:8080/"
        },
        "id": "yqUZnp9YcVtr",
        "outputId": "ac109346-071a-4503-9abc-7a82aa6f22f7"
      },
      "execution_count": 395,
      "outputs": [
        {
          "output_type": "stream",
          "name": "stdout",
          "text": [
            "Best Accuracy: 0.78125\n",
            "Best Feature Set: ['age', 'height', 'reach', 'precomp_change_avg_elo_differential', 'precomp_avg_age_differential_vs_opp', 'precomp_change_avg_ground_strikes_attempts_per_min_differential_peak_vs_opp', 'precomp_change_avg_ground_strikes_landed_per_min_differential_peak_vs_opp', 'precomp_head_strikes_def_vs_opp', 'precomp_change_avg_clinch_strikes_attempts_per_min_differential_vs_peak_vs_opp', 'precomp_avg_control_differential_vs_opp', 'precomp_recent_avg_ground_strikes_landed_differential_valley_vs_opp', 'precomp_avg_head_strikes_landed_per_min_differential_vs_opp']\n"
          ]
        }
      ]
    },
    {
      "cell_type": "code",
      "source": [
        "from itertools import combinations\n",
        "from sklearn.decomposition import PCA\n",
        "from sklearn.preprocessing import StandardScaler\n",
        "from sklearn.svm import SVC\n",
        "from sklearn.pipeline import make_pipeline\n",
        "from sklearn.model_selection import train_test_split\n",
        "\n",
        "# Define your base features that you will always include\n",
        "base_features = ['age', 'height','reach']  # Add your actual base features\n",
        "\n",
        "# List additional features to iterate through\n",
        "additional_features = ['precomp_change_avg_elo_differential', 'precomp_avg_age_differential_vs_opp', 'precomp_change_avg_ground_strikes_attempts_per_min_differential_peak_vs_opp', 'precomp_change_avg_ground_strikes_landed_per_min_differential_peak_vs_opp', 'precomp_head_strikes_def_vs_opp', 'precomp_change_avg_clinch_strikes_attempts_per_min_differential_vs_peak_vs_opp', 'precomp_avg_control_differential_vs_opp', 'precomp_recent_avg_ground_strikes_landed_differential_valley_vs_opp', 'precomp_avg_head_strikes_landed_per_min_differential_vs_opp']  # Add your actual additional features\n",
        "#,'precomp_age_vs_opp','precomp_head_strikes_def_vs_opp','precomp_age_vs_opp','precomp_change_avg_clinch_strikes_attempts_per_min_differential_vs_peak_vs_opp','precomp_avg_control_differential_vs_opp','precomp_change_recent_avg_ground_strikes_attempts_per_min_differential_peak_vs_opp','precomp_recent_avg_ground_strikes_landed_differential_valley_vs_opp'\n",
        "# Initialize the best accuracy to a very low number\n",
        "best_accuracy = 0\n",
        "best_feature_set = []\n",
        "\n",
        "# Generate all possible combinations of additional features\n",
        "for i in range(1, len(additional_features) + 1):\n",
        "    for combo in combinations(additional_features, i):\n",
        "        # Create a new feature set including the new combination of features\n",
        "        current_features = base_features + list(combo)\n",
        "\n",
        "        # Split the data into training and testing sets\n",
        "        X_train, X_test, y_train, y_test = train_test_split(\n",
        "            df[current_features], y, test_size=0.2, random_state=42\n",
        "        )\n",
        "\n",
        "        # Create a pipeline that standardizes, runs PCA, and trains SVM\n",
        "        pipeline = make_pipeline(StandardScaler(), PCA(n_components=0.95), SVC(kernel='rbf'))\n",
        "\n",
        "        # Fit the model\n",
        "        pipeline.fit(X_train, y_train)\n",
        "\n",
        "        # Calculate the accuracy\n",
        "        current_accuracy = pipeline.score(X_test, y_test)\n",
        "\n",
        "        # Check if the current combination of features gave a better accuracy\n",
        "        if current_accuracy > best_accuracy:\n",
        "            best_accuracy = current_accuracy\n",
        "            best_feature_set = current_features\n",
        "\n",
        "# Print the best accuracy and feature set\n",
        "print(f'Best Accuracy: {best_accuracy}')\n",
        "print(f'Best Feature Set: {best_feature_set}')\n"
      ],
      "metadata": {
        "colab": {
          "base_uri": "https://localhost:8080/"
        },
        "id": "ittDEfnk1EBJ",
        "outputId": "8f766e97-f6c4-4047-e999-a81727c4809f"
      },
      "execution_count": 396,
      "outputs": [
        {
          "output_type": "stream",
          "name": "stdout",
          "text": [
            "Best Accuracy: 0.78125\n",
            "Best Feature Set: ['age', 'height', 'reach', 'precomp_change_avg_elo_differential', 'precomp_avg_age_differential_vs_opp', 'precomp_change_avg_ground_strikes_attempts_per_min_differential_peak_vs_opp', 'precomp_change_avg_ground_strikes_landed_per_min_differential_peak_vs_opp', 'precomp_head_strikes_def_vs_opp', 'precomp_change_avg_clinch_strikes_attempts_per_min_differential_vs_peak_vs_opp', 'precomp_avg_control_differential_vs_opp', 'precomp_recent_avg_ground_strikes_landed_differential_valley_vs_opp']\n"
          ]
        }
      ]
    },
    {
      "cell_type": "markdown",
      "source": [
        "Using only age, reach, and height with a pipeline, standardscaler, PCA with 0.95 components, and rbf kernel got an accuracy os 0.47656\n",
        "\n",
        "(+)with precomp_age_vs_opp: 0.5\n",
        "\n",
        "(+) with precomp_avg_head_strikes_absorbed_differential_vs_opp: 0.5234375\n",
        "\n",
        "(=)with precomp_elo_differential: 0.5625\n",
        "\n",
        "(+)with precomp_age_differential_vs_opp: 0.5625\n",
        "\n",
        "(-)with precomp_elo_vs_opp: 0.5546875\n",
        "\n",
        "(+)with precomp_change_avg_elo_differential_vs_valley: 0.578125\n",
        "\n",
        "(=)with precomp_recent_avg_age_vs_opp: 0.578125\n",
        "\n",
        "(=)with precomp_recent_avg_head_strikes_absorbed_differential_valley_vs_opp: 0.578125\n",
        "\n",
        "(-)with precomp_age_differential: 0.5703125\n",
        "\n",
        "(+) with precomp_avg_age_vs_opp: 0.578125\n",
        "\n",
        "(=) with precomp_change_avg_elo_differential: 0.578125\n",
        "\n",
        "(-) with precomp_recent_avg_ground_strikes_attempts_differential_valley_vs_opp: 0.5546875\n",
        "\n",
        "(=) with precomp_avg_sig_strikes_absorbed_differential_vs_opp: 0.5546875\n",
        "\n",
        "(+) with precomp_recent_avg_age_differential_vs_opp: 0.5625\n",
        "\n",
        "(+) with precomp_change_avg_age_differential_vs_opp: 0.5859375\n",
        "\n",
        "(-) with precomp_head_strikes_landed_differential_valley_vs_opp: 0.578125\n",
        "\n",
        "(-) with precomp_change_recent_avg_elo_differential_vs_peak: 0.5703125\n",
        "\n",
        "(+) with precomp_change_avg_elo_differential_vs_peak: 0.609375\n",
        "\n",
        "(=) with precomp_elo_differential_vs_peak: 0.609375\n",
        "\n",
        "(+) with precomp_sig_strikes_landed_differential_valley_vs_opp: 0.625\n",
        "\n",
        "(-) with precomp_avg_ground_strikes_absorbed_differential_vs_opp: 0.625\n",
        "\n",
        "(-) with precomp_avg_takedowns_landed_differential_peak_vs_opp: 0.609375\n",
        "\n",
        "(-) with precomp_change_age_differential_vs_opp: 0.578125\n",
        "\n",
        "(-) with precomp_recent_avg_age_differential: 0.5703125\n",
        "\n",
        "(+) with precomp_avg_control_differential_vs_opp: 0.59375\n",
        "\n",
        "(=) with precomp_avg_age_differential_vs_opp: 0.59375\n",
        "\n",
        "(-) with precomp_recent_avg_sig_strikes_absorbed_differential_peak_vs_opp: 0.5859375\n",
        "\n",
        "(+) with precomp_recent_avg_sig_strikes_absorbed_differential_vs_opp: 0.59375\n",
        "\n",
        "(+) with precomp_recent_avg_control_valley_vs_opp: 0.609375\n",
        "\n",
        "(=) with precomp_change_elo_differential_vs_peak: 0.609375\n",
        "\n",
        "(-) with precomp_avg_distance_strikes_absorbed_differential_vs_opp: 0.59375\n",
        "\n",
        "(+) with precomp_recent_avg_ground_strikes_landed_differential_valley_vs_opp: 0.640625\n",
        "\n",
        "*(+) with precomp_change_elo_differential_vs_valley: 0.6484375\n",
        "\n",
        "(-) with precomp_head_strikes_def_vs_opp: 0.640625\n",
        "\n",
        "(-) with precomp_elo_valley_vs_opp: 0.609375\n",
        "\n",
        "(+) with precomp_head_strikes_def_differential_vs_opp: 0.625\n",
        "\n",
        "(=) with precomp_recent_avg_sig_strikes_absorbed_differential_valley_vs_opp: 0.625\n",
        "\n",
        "(-) with precomp_win_loss_ratio_differential: 0.6171875\n",
        "\n",
        "(-) with precomp_avg_head_strikes_landed_per_min_differential_vs_opp: 0.6015625\n",
        "\n",
        "(+) with precomp_recent_avg_head_strikes_absorbed_differential_peak_vs_opp: 0.609375\n",
        "\n",
        "(-) with precomp_avg_sig_strikes_absorbed_peak_vs_opp: 0.59375\n",
        "\n",
        "(=) with precomp_sig_strikes_absorbed_differential_peak_vs_opp: 0.59375\n",
        "\n",
        "(=) with precomp_trueskill_vs_opp: 0.59375\n",
        "\n",
        "(+) with precomp_change_recent_avg_elo_differential: 0.609375\n",
        "\n",
        "(-) with precomp_avg_head_strikes_landed_differential_vs_opp: 0.5859375\n",
        "\n",
        "(+) with precomp_takedowns_attempts_per_min_peak_vs_opp: 0.59375\n",
        "\n",
        "(+) with precomp_change_recent_avg_ground_strikes_attempts_per_min_differential_vs_valley_vs_opp: 0.6015625\n",
        "\n",
        "(-) with precomp_change_recent_avg_ground_strikes_attempts_per_min_differential_vs_peak_vs_opp: 0.5859375\n",
        "\n",
        "(-) with precomp_change_recent_avg_ground_strikes_attempts_per_min_differential_valley_vs_opp: 0.5703125\n",
        "\n",
        "(+) with precomp_change_recent_avg_ground_strikes_attempts_per_min_differential_peak_vs_opp: 0.59375\n",
        "\n",
        "(=) with precomp_change_avg_ground_strikes_attempts_per_min_differential_vs_valley_vs_opp: 0.59375\n",
        "\n",
        "(+) with precomp_change_avg_ground_strikes_attempts_per_min_differential_vs_peak_vs_opp: 0.6015625\n",
        "\n",
        "(=) with precomp_change_avg_ground_strikes_attempts_per_min_differential_valley_vs_opp: 0.6015625\n",
        "\n",
        "(-) with precomp_change_avg_ground_strikes_attempts_per_min_differential_peak_vs_opp: 0.578125\n",
        "\n",
        "(+) with precomp_change_recent_avg_ground_strikes_landed_per_min_differential_vs_valley_vs_opp: 0.6015625\n",
        "\n",
        "(-) with precomp_change_recent_avg_ground_strikes_landed_per_min_differential_vs_peak_vs_opp: 0.5859375\n",
        "\n",
        "(-) with precomp_change_recent_avg_ground_strikes_landed_per_min_differential_valley_vs_opp: 0.578125\n",
        "\n",
        "(+) with precomp_change_recent_avg_ground_strikes_landed_per_min_differential_peak_vs_opp: 0.5859375\n",
        "\n",
        "(+) with precomp_change_avg_ground_strikes_landed_per_min_differential_vs_valley_vs_opp: 0.59375\n",
        "\n",
        "(-) with precomp_change_avg_ground_strikes_landed_per_min_differential_vs_peak_vs_opp: 0.5703125\n",
        "\n",
        "(=) with precomp_change_avg_ground_strikes_landed_per_min_differential_valley_vs_opp: 0.5703125\n",
        "\n",
        "(+) with precomp_change_avg_ground_strikes_landed_per_min_differential_peak_vs_opp: 0.578125\n",
        "\n",
        "(+) with precomp_change_recent_avg_clinch_strikes_attempts_per_min_differential_vs_valley_vs_opp: 0.5859375\n",
        "\n",
        "(+) with precomp_change_recent_avg_clinch_strikes_attempts_per_min_differential_vs_peak_vs_opp: 0.6171875\n",
        "\n",
        "(+) with precomp_change_recent_avg_clinch_strikes_attempts_per_min_differential_valley_vs_opp: 0.625\n",
        "\n",
        "(-) with precomp_change_recent_avg_clinch_strikes_attempts_per_min_differential_peak_vs_opp: 0.6015625\n",
        "\n",
        "(+) with precomp_change_avg_clinch_strikes_attempts_per_min_differential_vs_valley_vs_opp: 0.609375\n",
        "\n",
        "(+) with precomp_change_avg_clinch_strikes_attempts_per_min_differential_vs_peak_vs_opp: 0.625\n",
        "\n",
        "(+) with precomp_change_avg_clinch_strikes_attempts_per_min_differential_valley_vs_opp: 0.6171875\n",
        "\n",
        "(+) with precomp_change_avg_clinch_strikes_attempts_per_min_differential_peak_vs_opp: 0.6328125\n",
        "\n",
        "(-) with precomp_change_recent_avg_clinch_strikes_landed_per_min_differential_vs_valley_vs_opp: 0.625\n",
        "\n",
        "(=) with precomp_change_recent_avg_clinch_strikes_landed_per_min_differential_vs_peak_vs_opp: 0.625"
      ],
      "metadata": {
        "id": "i226POmeMwu2"
      }
    },
    {
      "cell_type": "markdown",
      "source": [
        "(-) Removed precomp_change_recent_avg_clinch_strikes_landed_per_min_differential_vs_valley_vs_opp: 0.6171875\n",
        "\n",
        "(=)Removed precomp_change_recent_avg_clinch_strikes_attempts_per_min_differential_peak_vs_opp: 0.6171875\n",
        "\n",
        "(-) Removed precomp_change_avg_ground_strikes_landed_per_min_differential_vs_peak_vs_opp: 0.6015625\n",
        "\n",
        "(+) Removed precomp_change_recent_avg_ground_strikes_landed_per_min_differential_valley_vs_opp: 0.609375\n",
        "\n",
        "(-) Removed precomp_change_recent_avg_ground_strikes_landed_per_min_differential_vs_peak_vs_opp: 0.6015625"
      ],
      "metadata": {
        "id": "zL1SLebhU2qh"
      }
    }
  ]
}